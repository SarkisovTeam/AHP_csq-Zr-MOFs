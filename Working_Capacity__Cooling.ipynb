{
 "cells": [
  {
   "cell_type": "code",
   "execution_count": null,
   "metadata": {},
   "outputs": [],
   "source": [
    "import pandas as pd\n",
    "import seaborn as sns\n",
    "import matplotlib.pyplot as plt"
   ]
  },
  {
   "cell_type": "code",
   "execution_count": null,
   "metadata": {},
   "outputs": [],
   "source": [
    "pwd"
   ]
  },
  {
   "cell_type": "code",
   "execution_count": null,
   "metadata": {},
   "outputs": [],
   "source": [
    "# Sample data loading\n",
    "df = pd.read_csv('Refrigiration_calc1.csv')"
   ]
  },
  {
   "cell_type": "code",
   "execution_count": null,
   "metadata": {},
   "outputs": [],
   "source": [
    "df.head()"
   ]
  },
  {
   "cell_type": "code",
   "execution_count": null,
   "metadata": {},
   "outputs": [],
   "source": [
    "import matplotlib.pyplot as plt\n",
    "import seaborn as sns\n",
    "import pandas as pd\n",
    "\n",
    "# Sample data loading\n",
    "df = pd.read_csv('Refrigiration_calc_without_10T_and_8T.csv')\n",
    "\n",
    "# Assuming df contains 'name', 'Adsorption', 'Desorption', and 'deltaW' columns\n",
    "# Replace 'deltaW_column_name' with the actual name of the column in your DataFrame\n",
    "deltaW_column_name = 'deltaW'\n",
    "\n",
    "# Define the desired order of names\n",
    "desired_order = ['T', 'NU-1000', '2T', '3T', '2B', 'TBT', 'TBT-N', 'NU-1007', '3B', '4B', '5T', '6T', '7T']\n",
    "\n",
    "# Remove rows with 'nan' values in 'Adsorption' and 'Desorption' columns\n",
    "df_filtered = df\n",
    "\n",
    "# Set the style for the plot (optional, for a scientific publication look)\n",
    "sns.set(style=\"whitegrid\", font_scale=1.3)\n",
    "\n",
    "# Create a new figure with a dark background\n",
    "plt.figure(figsize=(12, 5))\n",
    "sns.set_palette(\"pastel\")\n",
    "\n",
    "# Sort the DataFrame based on the desired order\n",
    "df_filtered['name'] = pd.Categorical(df_filtered['name'], categories=desired_order, ordered=True)\n",
    "df_filtered = df_filtered.sort_values('name')\n",
    "\n",
    "# Create barplots using Seaborn for Adsorption and Desorption with equal width\n",
    "ax = sns.barplot(x=df_filtered['name'], y=df_filtered['Adsorption'], color='green', edgecolor='black', label='Adsorption', alpha=1.0, capsize=0.05)\n",
    "\n",
    "# Manually adjust the position of Desorption bars to overlap Adsorption bars\n",
    "# Set the color of specified names to pinkish for Desorption bars\n",
    "colors_desorption = ['pink' if name in ['4B', '6T', '7T'] else 'red' for name in df_filtered['name']]\n",
    "ax = sns.barplot(x=df_filtered['name'], y=df_filtered['Desorption'], palette=colors_desorption, hatch='//', edgecolor='black', label='Desorption', alpha=1.0, capsize=0.05, ax=ax)\n",
    "\n",
    "# Make 'Adsorption' bars of specific names transparent\n",
    "transparent_names = ['4B', '6T', '7T']\n",
    "for i, name in enumerate(df_filtered['name']):\n",
    "    if name in transparent_names:\n",
    "        ax.patches[i].set_alpha(0.4)  # Set transparency for specific bars\n",
    "\n",
    "# Add 'name', delta symbol, 'W =' and 'deltaW' on top of Adsorption bars, excluding the last two bars\n",
    "for i, (name, deltaW) in enumerate(zip(df_filtered['name'][:], df_filtered[deltaW_column_name][:])):\n",
    "    ax.text(i, df_filtered['Adsorption'].iloc[i] + 0.05, f\"{name}\\nΔW={deltaW:.2f}\", color='black', ha='center', va='bottom', rotation=80, fontsize=16)\n",
    "\n",
    "# Remove x-axis labels\n",
    "ax.set_xticklabels([])\n",
    "\n",
    "# Set plot labels and title\n",
    "plt.ylabel('Adsorption and Desorption [g/g]', color='black',fontsize=18)\n",
    "\n",
    "# Set Y-axis limit to 2.2\n",
    "plt.ylim(0.0, 2.8)\n",
    "\n",
    "# Add legends\n",
    "plt.legend(title='', title_fontsize='14', loc='upper left')\n",
    "\n",
    "# Beautify the plot with a title and grid\n",
    "#plt.title('Cooling: Adsorption, Desorption, and Working Capacity for Different MOFs', fontsize='16')\n",
    "#plt.grid(axis='y', linestyle='--', alpha=0.7)\n",
    "\n",
    "# Save the plot with DPI=600\n",
    "plt.tight_layout()\n",
    "plt.savefig('COOLING_Adsorption_Desorption_Plot_not_tall_filtered_06.07.2024.png', dpi=600)\n",
    "plt.show()\n"
   ]
  },
  {
   "cell_type": "code",
   "execution_count": null,
   "metadata": {},
   "outputs": [],
   "source": []
  },
  {
   "cell_type": "code",
   "execution_count": null,
   "metadata": {},
   "outputs": [],
   "source": []
  }
 ],
 "metadata": {
  "kernelspec": {
   "display_name": "Python 3 (ipykernel)",
   "language": "python",
   "name": "python3"
  },
  "language_info": {
   "codemirror_mode": {
    "name": "ipython",
    "version": 3
   },
   "file_extension": ".py",
   "mimetype": "text/x-python",
   "name": "python",
   "nbconvert_exporter": "python",
   "pygments_lexer": "ipython3",
   "version": "3.7.6"
  }
 },
 "nbformat": 4,
 "nbformat_minor": 5
}
